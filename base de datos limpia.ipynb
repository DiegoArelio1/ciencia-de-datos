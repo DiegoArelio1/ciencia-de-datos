{
 "cells": [
  {
   "cell_type": "markdown",
   "id": "975d977c",
   "metadata": {},
   "source": [
    "# Benemérita Universidad Autónoma de Puebla\n",
    "# Facultad de Ciencias de la Computación  \n",
    "# Ingeniería en Ciencia de Datos  \n",
    "#Materia: Introducción a la Ciencia de Datos  \n",
    "#Profesor: Jaime Alejandro Romero Sierra  \n",
    "#Alumno: Juan Diego Carreón Arellio  \n",
    "#Fecha: 20/10/2025  \n",
    "#Proyecto: Limpieza y Preparación de Datos – Detección de Fraudes "
   ]
  },
  {
   "cell_type": "markdown",
   "id": "db58da18",
   "metadata": {},
   "source": [
    "En esta práctica se trabaja con un dataset de transacciones bancarias de Kaggle, modificado por el profesor para simular datos sucios.\n",
    "\n",
    "El objetivo es **limpiar y preparar los datos** para su posterior análisis exploratorio, aplicando las funciones básicas de `pandas` vistas en clase:  \n",
    "`isnull`, `drop_duplicates`, `fillna`, `replace`, `to_numeric`, `info`, `describe`.\n",
    "\n",
    "El dataset tiene **10 columnas y más de 11,000 registros**."
   ]
  },
  {
   "cell_type": "code",
   "execution_count": null,
   "id": "2c1303f4",
   "metadata": {},
   "outputs": [
    {
     "data": {
      "text/html": [
       "<div>\n",
       "<style scoped>\n",
       "    .dataframe tbody tr th:only-of-type {\n",
       "        vertical-align: middle;\n",
       "    }\n",
       "\n",
       "    .dataframe tbody tr th {\n",
       "        vertical-align: top;\n",
       "    }\n",
       "\n",
       "    .dataframe thead th {\n",
       "        text-align: right;\n",
       "    }\n",
       "</style>\n",
       "<table border=\"1\" class=\"dataframe\">\n",
       "  <thead>\n",
       "    <tr style=\"text-align: right;\">\n",
       "      <th></th>\n",
       "      <th>step</th>\n",
       "      <th>type</th>\n",
       "      <th>amount</th>\n",
       "      <th>nameOrig</th>\n",
       "      <th>oldbalanceOrg</th>\n",
       "      <th>newbalanceOrig</th>\n",
       "      <th>nameDest</th>\n",
       "      <th>oldbalanceDest</th>\n",
       "      <th>newbalanceDest</th>\n",
       "      <th>isFraud</th>\n",
       "    </tr>\n",
       "  </thead>\n",
       "  <tbody>\n",
       "    <tr>\n",
       "      <th>0</th>\n",
       "      <td>36</td>\n",
       "      <td>CASH_OUT</td>\n",
       "      <td>449109.84</td>\n",
       "      <td>C630750768</td>\n",
       "      <td>NaN</td>\n",
       "      <td>0.00</td>\n",
       "      <td>NaN</td>\n",
       "      <td>72855.78</td>\n",
       "      <td>521965.62</td>\n",
       "      <td>0.0</td>\n",
       "    </tr>\n",
       "    <tr>\n",
       "      <th>1</th>\n",
       "      <td>402</td>\n",
       "      <td>PAYMENT</td>\n",
       "      <td>8593.72</td>\n",
       "      <td>C960271657</td>\n",
       "      <td>0.00</td>\n",
       "      <td>0.00</td>\n",
       "      <td>M431752332</td>\n",
       "      <td>0.00</td>\n",
       "      <td>0.0</td>\n",
       "      <td>0.0</td>\n",
       "    </tr>\n",
       "    <tr>\n",
       "      <th>2</th>\n",
       "      <td>33</td>\n",
       "      <td>PAYMENT</td>\n",
       "      <td>9201.16</td>\n",
       "      <td>C1378359079</td>\n",
       "      <td>22962.00</td>\n",
       "      <td>13760.84</td>\n",
       "      <td>M352072570</td>\n",
       "      <td>NaN</td>\n",
       "      <td>0.0</td>\n",
       "      <td>0.0</td>\n",
       "    </tr>\n",
       "    <tr>\n",
       "      <th>3</th>\n",
       "      <td>18</td>\n",
       "      <td>NaN</td>\n",
       "      <td>1225.30</td>\n",
       "      <td>C1707719646</td>\n",
       "      <td>0.00</td>\n",
       "      <td>0.00</td>\n",
       "      <td>M1913693032</td>\n",
       "      <td>0.00</td>\n",
       "      <td>NaN</td>\n",
       "      <td>0.0</td>\n",
       "    </tr>\n",
       "    <tr>\n",
       "      <th>4</th>\n",
       "      <td>235</td>\n",
       "      <td>PAYMENT</td>\n",
       "      <td>9820.29</td>\n",
       "      <td>C90105308</td>\n",
       "      <td>10836.00</td>\n",
       "      <td>1015.71</td>\n",
       "      <td>M1581304819</td>\n",
       "      <td>0.00</td>\n",
       "      <td>0.0</td>\n",
       "      <td>0.0</td>\n",
       "    </tr>\n",
       "    <tr>\n",
       "      <th>...</th>\n",
       "      <td>...</td>\n",
       "      <td>...</td>\n",
       "      <td>...</td>\n",
       "      <td>...</td>\n",
       "      <td>...</td>\n",
       "      <td>...</td>\n",
       "      <td>...</td>\n",
       "      <td>...</td>\n",
       "      <td>...</td>\n",
       "      <td>...</td>\n",
       "    </tr>\n",
       "    <tr>\n",
       "      <th>11586</th>\n",
       "      <td>179</td>\n",
       "      <td>CASH_OUT</td>\n",
       "      <td>363585.95</td>\n",
       "      <td>C822058959</td>\n",
       "      <td>26708.00</td>\n",
       "      <td>0.00</td>\n",
       "      <td>C325567260</td>\n",
       "      <td>173808.62</td>\n",
       "      <td>537394.57</td>\n",
       "      <td>0.0</td>\n",
       "    </tr>\n",
       "    <tr>\n",
       "      <th>11587</th>\n",
       "      <td>13</td>\n",
       "      <td>CASH_IN</td>\n",
       "      <td>472601.05</td>\n",
       "      <td>NaN</td>\n",
       "      <td>2545417.97</td>\n",
       "      <td>3018019.02</td>\n",
       "      <td>C1839337592</td>\n",
       "      <td>6482126.00</td>\n",
       "      <td>6009524.95</td>\n",
       "      <td>0.0</td>\n",
       "    </tr>\n",
       "    <tr>\n",
       "      <th>11588</th>\n",
       "      <td>375</td>\n",
       "      <td>CASH_IN</td>\n",
       "      <td>249638.23</td>\n",
       "      <td>C1324949601</td>\n",
       "      <td>4200851.80</td>\n",
       "      <td>4450490.03</td>\n",
       "      <td>C2037309464</td>\n",
       "      <td>256762.13</td>\n",
       "      <td>7123.9</td>\n",
       "      <td>0.0</td>\n",
       "    </tr>\n",
       "    <tr>\n",
       "      <th>11589</th>\n",
       "      <td>329</td>\n",
       "      <td>PAYMENT</td>\n",
       "      <td>2786.10</td>\n",
       "      <td>C361627027</td>\n",
       "      <td>5349.00</td>\n",
       "      <td>2562.90</td>\n",
       "      <td>M79674796</td>\n",
       "      <td>0.00</td>\n",
       "      <td>0.0</td>\n",
       "      <td>0.0</td>\n",
       "    </tr>\n",
       "    <tr>\n",
       "      <th>11590</th>\n",
       "      <td>182</td>\n",
       "      <td>CASH_IN</td>\n",
       "      <td>301732.17</td>\n",
       "      <td>C671892507</td>\n",
       "      <td>0.00</td>\n",
       "      <td>301732.17</td>\n",
       "      <td>C60713113</td>\n",
       "      <td>0.00</td>\n",
       "      <td>0.0</td>\n",
       "      <td>0.0</td>\n",
       "    </tr>\n",
       "  </tbody>\n",
       "</table>\n",
       "<p>11591 rows × 10 columns</p>\n",
       "</div>"
      ],
      "text/plain": [
       "      step      type     amount     nameOrig  oldbalanceOrg  newbalanceOrig  \\\n",
       "0       36  CASH_OUT  449109.84   C630750768            NaN            0.00   \n",
       "1      402   PAYMENT    8593.72   C960271657           0.00            0.00   \n",
       "2       33   PAYMENT    9201.16  C1378359079       22962.00        13760.84   \n",
       "3       18       NaN    1225.30  C1707719646           0.00            0.00   \n",
       "4      235   PAYMENT    9820.29    C90105308       10836.00         1015.71   \n",
       "...    ...       ...        ...          ...            ...             ...   \n",
       "11586  179  CASH_OUT  363585.95   C822058959       26708.00            0.00   \n",
       "11587   13   CASH_IN  472601.05          NaN     2545417.97      3018019.02   \n",
       "11588  375   CASH_IN  249638.23  C1324949601     4200851.80      4450490.03   \n",
       "11589  329   PAYMENT    2786.10   C361627027        5349.00         2562.90   \n",
       "11590  182   CASH_IN  301732.17   C671892507           0.00       301732.17   \n",
       "\n",
       "          nameDest  oldbalanceDest newbalanceDest  isFraud  \n",
       "0              NaN        72855.78      521965.62      0.0  \n",
       "1       M431752332            0.00            0.0      0.0  \n",
       "2       M352072570             NaN            0.0      0.0  \n",
       "3      M1913693032            0.00            NaN      0.0  \n",
       "4      M1581304819            0.00            0.0      0.0  \n",
       "...            ...             ...            ...      ...  \n",
       "11586   C325567260       173808.62      537394.57      0.0  \n",
       "11587  C1839337592      6482126.00     6009524.95      0.0  \n",
       "11588  C2037309464       256762.13         7123.9      0.0  \n",
       "11589    M79674796            0.00            0.0      0.0  \n",
       "11590    C60713113            0.00            0.0      0.0  \n",
       "\n",
       "[11591 rows x 10 columns]"
      ]
     },
     "execution_count": 19,
     "metadata": {},
     "output_type": "execute_result"
    }
   ],
   "source": [
    "import pandas as pd\n",
    "df=pd.read_csv('df_sucio.csv')\n",
    "df"
   ]
  },
  {
   "cell_type": "code",
   "execution_count": null,
   "id": "d3545ee5",
   "metadata": {},
   "outputs": [
    {
     "data": {
      "text/html": [
       "<div>\n",
       "<style scoped>\n",
       "    .dataframe tbody tr th:only-of-type {\n",
       "        vertical-align: middle;\n",
       "    }\n",
       "\n",
       "    .dataframe tbody tr th {\n",
       "        vertical-align: top;\n",
       "    }\n",
       "\n",
       "    .dataframe thead th {\n",
       "        text-align: right;\n",
       "    }\n",
       "</style>\n",
       "<table border=\"1\" class=\"dataframe\">\n",
       "  <thead>\n",
       "    <tr style=\"text-align: right;\">\n",
       "      <th></th>\n",
       "      <th>step</th>\n",
       "      <th>type</th>\n",
       "      <th>amount</th>\n",
       "      <th>nameOrig</th>\n",
       "      <th>oldbalanceOrg</th>\n",
       "      <th>newbalanceOrig</th>\n",
       "      <th>nameDest</th>\n",
       "      <th>oldbalanceDest</th>\n",
       "      <th>newbalanceDest</th>\n",
       "      <th>isFraud</th>\n",
       "    </tr>\n",
       "  </thead>\n",
       "  <tbody>\n",
       "    <tr>\n",
       "      <th>0</th>\n",
       "      <td>36</td>\n",
       "      <td>CASH_OUT</td>\n",
       "      <td>449109.84</td>\n",
       "      <td>C630750768</td>\n",
       "      <td>NaN</td>\n",
       "      <td>0.00</td>\n",
       "      <td>NaN</td>\n",
       "      <td>72855.78</td>\n",
       "      <td>521965.62</td>\n",
       "      <td>0.0</td>\n",
       "    </tr>\n",
       "    <tr>\n",
       "      <th>1</th>\n",
       "      <td>402</td>\n",
       "      <td>PAYMENT</td>\n",
       "      <td>8593.72</td>\n",
       "      <td>C960271657</td>\n",
       "      <td>0.0</td>\n",
       "      <td>0.00</td>\n",
       "      <td>M431752332</td>\n",
       "      <td>0.00</td>\n",
       "      <td>0.0</td>\n",
       "      <td>0.0</td>\n",
       "    </tr>\n",
       "    <tr>\n",
       "      <th>2</th>\n",
       "      <td>33</td>\n",
       "      <td>PAYMENT</td>\n",
       "      <td>9201.16</td>\n",
       "      <td>C1378359079</td>\n",
       "      <td>22962.0</td>\n",
       "      <td>13760.84</td>\n",
       "      <td>M352072570</td>\n",
       "      <td>NaN</td>\n",
       "      <td>0.0</td>\n",
       "      <td>0.0</td>\n",
       "    </tr>\n",
       "    <tr>\n",
       "      <th>3</th>\n",
       "      <td>18</td>\n",
       "      <td>NaN</td>\n",
       "      <td>1225.30</td>\n",
       "      <td>C1707719646</td>\n",
       "      <td>0.0</td>\n",
       "      <td>0.00</td>\n",
       "      <td>M1913693032</td>\n",
       "      <td>0.00</td>\n",
       "      <td>NaN</td>\n",
       "      <td>0.0</td>\n",
       "    </tr>\n",
       "    <tr>\n",
       "      <th>4</th>\n",
       "      <td>235</td>\n",
       "      <td>PAYMENT</td>\n",
       "      <td>9820.29</td>\n",
       "      <td>C90105308</td>\n",
       "      <td>10836.0</td>\n",
       "      <td>1015.71</td>\n",
       "      <td>M1581304819</td>\n",
       "      <td>0.00</td>\n",
       "      <td>0.0</td>\n",
       "      <td>0.0</td>\n",
       "    </tr>\n",
       "  </tbody>\n",
       "</table>\n",
       "</div>"
      ],
      "text/plain": [
       "  step      type     amount     nameOrig  oldbalanceOrg  newbalanceOrig  \\\n",
       "0   36  CASH_OUT  449109.84   C630750768            NaN            0.00   \n",
       "1  402   PAYMENT    8593.72   C960271657            0.0            0.00   \n",
       "2   33   PAYMENT    9201.16  C1378359079        22962.0        13760.84   \n",
       "3   18       NaN    1225.30  C1707719646            0.0            0.00   \n",
       "4  235   PAYMENT    9820.29    C90105308        10836.0         1015.71   \n",
       "\n",
       "      nameDest  oldbalanceDest newbalanceDest  isFraud  \n",
       "0          NaN        72855.78      521965.62      0.0  \n",
       "1   M431752332            0.00            0.0      0.0  \n",
       "2   M352072570             NaN            0.0      0.0  \n",
       "3  M1913693032            0.00            NaN      0.0  \n",
       "4  M1581304819            0.00            0.0      0.0  "
      ]
     },
     "execution_count": 21,
     "metadata": {},
     "output_type": "execute_result"
    }
   ],
   "source": [
    "df.head()"
   ]
  },
  {
   "cell_type": "markdown",
   "id": "72b91580",
   "metadata": {},
   "source": [
    "El comando `df.head()` muestra las primeras 5 filas del dataset.\n",
    "Esto permite inspeccionar visualmente las columnas y detectar valores ausentes o incoherentes."
   ]
  },
  {
   "cell_type": "code",
   "execution_count": null,
   "id": "00a5c033",
   "metadata": {},
   "outputs": [
    {
     "name": "stdout",
     "output_type": "stream",
     "text": [
      "<class 'pandas.core.frame.DataFrame'>\n",
      "RangeIndex: 11591 entries, 0 to 11590\n",
      "Data columns (total 10 columns):\n",
      " #   Column          Non-Null Count  Dtype  \n",
      "---  ------          --------------  -----  \n",
      " 0   step            11128 non-null  object \n",
      " 1   type            11128 non-null  object \n",
      " 2   amount          11128 non-null  float64\n",
      " 3   nameOrig        11128 non-null  object \n",
      " 4   oldbalanceOrg   11128 non-null  float64\n",
      " 5   newbalanceOrig  11128 non-null  float64\n",
      " 6   nameDest        11128 non-null  object \n",
      " 7   oldbalanceDest  11128 non-null  float64\n",
      " 8   newbalanceDest  11128 non-null  object \n",
      " 9   isFraud         10910 non-null  float64\n",
      "dtypes: float64(5), object(5)\n",
      "memory usage: 905.7+ KB\n"
     ]
    }
   ],
   "source": [
    "df.info()"
   ]
  },
  {
   "cell_type": "code",
   "execution_count": null,
   "id": "9e73ca97",
   "metadata": {},
   "outputs": [
    {
     "data": {
      "text/plain": [
       "step              463\n",
       "type              463\n",
       "amount            463\n",
       "nameOrig          463\n",
       "oldbalanceOrg     463\n",
       "newbalanceOrig    463\n",
       "nameDest          463\n",
       "oldbalanceDest    463\n",
       "newbalanceDest    463\n",
       "isFraud           681\n",
       "dtype: int64"
      ]
     },
     "execution_count": 23,
     "metadata": {},
     "output_type": "execute_result"
    }
   ],
   "source": [
    "df.isna().sum()"
   ]
  },
  {
   "cell_type": "code",
   "execution_count": null,
   "id": "96392bd6",
   "metadata": {},
   "outputs": [
    {
     "data": {
      "text/plain": [
       "np.int64(577)"
      ]
     },
     "execution_count": 24,
     "metadata": {},
     "output_type": "execute_result"
    }
   ],
   "source": [
    "df.duplicated().sum()"
   ]
  },
  {
   "cell_type": "markdown",
   "id": "1e10bbfb",
   "metadata": {},
   "source": [
    "Con `df.info()` verificamos los tipos de datos y el número de valores no nulos.  \n",
    "`df.isna().sum()` permite identificar cuántos valores faltan por columna.  \n",
    "`df.duplicated().sum()` cuenta cuántas filas están repetidas."
   ]
  },
  {
   "cell_type": "code",
   "execution_count": null,
   "id": "8379e281",
   "metadata": {},
   "outputs": [
    {
     "name": "stdout",
     "output_type": "stream",
     "text": [
      "Duplicados eliminados: 577\n"
     ]
    }
   ],
   "source": [
    "# === 2. ELIMINACIÓN DE DUPLICADOS ===\n",
    "antes = df.shape[0]\n",
    "df = df.drop_duplicates()\n",
    "despues = df.shape[0]\n",
    "\n",
    "print(f\"Duplicados eliminados: {antes - despues}\")\n"
   ]
  },
  {
   "cell_type": "markdown",
   "id": "7619291a",
   "metadata": {},
   "source": [
    "Se eliminaron 577 registros duplicados.  \n",
    "Esto evita sesgos en los cálculos estadísticos o el entrenamiento de modelos.\n"
   ]
  },
  {
   "cell_type": "code",
   "execution_count": null,
   "id": "d2ec7f75",
   "metadata": {},
   "outputs": [
    {
     "name": "stderr",
     "output_type": "stream",
     "text": [
      "C:\\Users\\Uusario Nuevoo\\AppData\\Local\\Temp\\ipykernel_8408\\885527680.py:9: SettingWithCopyWarning: \n",
      "A value is trying to be set on a copy of a slice from a DataFrame.\n",
      "Try using .loc[row_indexer,col_indexer] = value instead\n",
      "\n",
      "See the caveats in the documentation: https://pandas.pydata.org/pandas-docs/stable/user_guide/indexing.html#returning-a-view-versus-a-copy\n",
      "  df[col] = pd.to_numeric(df[col], errors=\"coerce\")\n",
      "C:\\Users\\Uusario Nuevoo\\AppData\\Local\\Temp\\ipykernel_8408\\885527680.py:14: SettingWithCopyWarning: \n",
      "A value is trying to be set on a copy of a slice from a DataFrame.\n",
      "Try using .loc[row_indexer,col_indexer] = value instead\n",
      "\n",
      "See the caveats in the documentation: https://pandas.pydata.org/pandas-docs/stable/user_guide/indexing.html#returning-a-view-versus-a-copy\n",
      "  df[col] = df[col].astype(str).str.strip().str.lower()\n",
      "C:\\Users\\Uusario Nuevoo\\AppData\\Local\\Temp\\ipykernel_8408\\885527680.py:14: SettingWithCopyWarning: \n",
      "A value is trying to be set on a copy of a slice from a DataFrame.\n",
      "Try using .loc[row_indexer,col_indexer] = value instead\n",
      "\n",
      "See the caveats in the documentation: https://pandas.pydata.org/pandas-docs/stable/user_guide/indexing.html#returning-a-view-versus-a-copy\n",
      "  df[col] = df[col].astype(str).str.strip().str.lower()\n",
      "C:\\Users\\Uusario Nuevoo\\AppData\\Local\\Temp\\ipykernel_8408\\885527680.py:14: SettingWithCopyWarning: \n",
      "A value is trying to be set on a copy of a slice from a DataFrame.\n",
      "Try using .loc[row_indexer,col_indexer] = value instead\n",
      "\n",
      "See the caveats in the documentation: https://pandas.pydata.org/pandas-docs/stable/user_guide/indexing.html#returning-a-view-versus-a-copy\n",
      "  df[col] = df[col].astype(str).str.strip().str.lower()\n"
     ]
    }
   ],
   "source": [
    "# === 3. CONVERSIÓN DE TIPOS ===\n",
    "cols_num = [\"step\", \"amount\", \"oldbalanceOrg\", \"newbalanceOrig\",\n",
    "            \"oldbalanceDest\", \"newbalanceDest\", \"isFraud\"]\n",
    "cols_cat = [\"type\", \"nameOrig\", \"nameDest\"]\n",
    "\n",
    "# Convertir columnas numéricas\n",
    "for col in cols_num:\n",
    "    if col in df.columns:\n",
    "        df[col] = pd.to_numeric(df[col], errors=\"coerce\")\n",
    "\n",
    "# Convertir columnas categóricas a texto limpio\n",
    "for col in cols_cat:\n",
    "    if col in df.columns:\n",
    "        df[col] = df[col].astype(str).str.strip().str.lower()\n"
   ]
  },
  {
   "cell_type": "markdown",
   "id": "ae4414b3",
   "metadata": {},
   "source": [
    "Con `to_numeric(errors=\"coerce\")` se convierten valores incorrectos a `NaN`, \n",
    "y luego se corrigen.  \n",
    "Las variables categóricas se normalizan (sin mayúsculas ni espacios extra).\n"
   ]
  },
  {
   "cell_type": "code",
   "execution_count": null,
   "id": "c78731b5",
   "metadata": {},
   "outputs": [
    {
     "data": {
      "text/plain": [
       "step              6.21\n",
       "type              0.00\n",
       "amount            4.19\n",
       "nameOrig          0.00\n",
       "oldbalanceOrg     4.19\n",
       "newbalanceOrig    4.19\n",
       "nameDest          0.00\n",
       "oldbalanceDest    4.19\n",
       "newbalanceDest    6.20\n",
       "isFraud           6.16\n",
       "dtype: float64"
      ]
     },
     "execution_count": 16,
     "metadata": {},
     "output_type": "execute_result"
    }
   ],
   "source": [
    "# === 4. ANÁLISIS DE VALORES FALTANTES ===\n",
    "faltantes = (df.isna().sum() / len(df) * 100).round(2)\n",
    "faltantes\n"
   ]
  },
  {
   "cell_type": "markdown",
   "id": "c3882ac5",
   "metadata": {},
   "source": [
    "Este paso calcula el **porcentaje de valores faltantes** por columna.  \n",
    "Nos permite priorizar qué columnas requieren imputación.\n"
   ]
  },
  {
   "cell_type": "code",
   "execution_count": null,
   "id": "9c2fb15c",
   "metadata": {},
   "outputs": [
    {
     "name": "stderr",
     "output_type": "stream",
     "text": [
      "C:\\Users\\Uusario Nuevoo\\AppData\\Local\\Temp\\ipykernel_8408\\3403717811.py:4: SettingWithCopyWarning: \n",
      "A value is trying to be set on a copy of a slice from a DataFrame.\n",
      "Try using .loc[row_indexer,col_indexer] = value instead\n",
      "\n",
      "See the caveats in the documentation: https://pandas.pydata.org/pandas-docs/stable/user_guide/indexing.html#returning-a-view-versus-a-copy\n",
      "  df[col] = df[col].fillna(df[col].median())\n",
      "C:\\Users\\Uusario Nuevoo\\AppData\\Local\\Temp\\ipykernel_8408\\3403717811.py:4: SettingWithCopyWarning: \n",
      "A value is trying to be set on a copy of a slice from a DataFrame.\n",
      "Try using .loc[row_indexer,col_indexer] = value instead\n",
      "\n",
      "See the caveats in the documentation: https://pandas.pydata.org/pandas-docs/stable/user_guide/indexing.html#returning-a-view-versus-a-copy\n",
      "  df[col] = df[col].fillna(df[col].median())\n",
      "C:\\Users\\Uusario Nuevoo\\AppData\\Local\\Temp\\ipykernel_8408\\3403717811.py:4: SettingWithCopyWarning: \n",
      "A value is trying to be set on a copy of a slice from a DataFrame.\n",
      "Try using .loc[row_indexer,col_indexer] = value instead\n",
      "\n",
      "See the caveats in the documentation: https://pandas.pydata.org/pandas-docs/stable/user_guide/indexing.html#returning-a-view-versus-a-copy\n",
      "  df[col] = df[col].fillna(df[col].median())\n",
      "C:\\Users\\Uusario Nuevoo\\AppData\\Local\\Temp\\ipykernel_8408\\3403717811.py:4: SettingWithCopyWarning: \n",
      "A value is trying to be set on a copy of a slice from a DataFrame.\n",
      "Try using .loc[row_indexer,col_indexer] = value instead\n",
      "\n",
      "See the caveats in the documentation: https://pandas.pydata.org/pandas-docs/stable/user_guide/indexing.html#returning-a-view-versus-a-copy\n",
      "  df[col] = df[col].fillna(df[col].median())\n",
      "C:\\Users\\Uusario Nuevoo\\AppData\\Local\\Temp\\ipykernel_8408\\3403717811.py:4: SettingWithCopyWarning: \n",
      "A value is trying to be set on a copy of a slice from a DataFrame.\n",
      "Try using .loc[row_indexer,col_indexer] = value instead\n",
      "\n",
      "See the caveats in the documentation: https://pandas.pydata.org/pandas-docs/stable/user_guide/indexing.html#returning-a-view-versus-a-copy\n",
      "  df[col] = df[col].fillna(df[col].median())\n",
      "C:\\Users\\Uusario Nuevoo\\AppData\\Local\\Temp\\ipykernel_8408\\3403717811.py:4: SettingWithCopyWarning: \n",
      "A value is trying to be set on a copy of a slice from a DataFrame.\n",
      "Try using .loc[row_indexer,col_indexer] = value instead\n",
      "\n",
      "See the caveats in the documentation: https://pandas.pydata.org/pandas-docs/stable/user_guide/indexing.html#returning-a-view-versus-a-copy\n",
      "  df[col] = df[col].fillna(df[col].median())\n",
      "C:\\Users\\Uusario Nuevoo\\AppData\\Local\\Temp\\ipykernel_8408\\3403717811.py:7: SettingWithCopyWarning: \n",
      "A value is trying to be set on a copy of a slice from a DataFrame.\n",
      "Try using .loc[row_indexer,col_indexer] = value instead\n",
      "\n",
      "See the caveats in the documentation: https://pandas.pydata.org/pandas-docs/stable/user_guide/indexing.html#returning-a-view-versus-a-copy\n",
      "  df[\"isFraud\"] = df[\"isFraud\"].fillna(0)\n"
     ]
    }
   ],
   "source": [
    "# === 5. RELLENO DE VALORES NULOS ===\n",
    "for col in cols_num:\n",
    "    if df[col].isna().sum() > 0 and col != \"isFraud\":\n",
    "        df[col] = df[col].fillna(df[col].median())\n",
    "\n",
    "if \"isFraud\" in df.columns:\n",
    "    df[\"isFraud\"] = df[\"isFraud\"].fillna(0)\n",
    "\n",
    "for col in cols_cat:\n",
    "    if df[col].isna().sum() > 0:\n",
    "        df[col] = df[col].fillna(\"desconocido\")\n"
   ]
  },
  {
   "cell_type": "markdown",
   "id": "f8d8383c",
   "metadata": {},
   "source": [
    "- Se rellenan los valores faltantes numéricos con la **mediana**, \n",
    "  ya que es robusta ante outliers.  \n",
    "- Las variables categóricas se completan con `\"desconocido\"`.  \n",
    "- La columna `isFraud` se rellena con **0**, indicando “no fraude”.\n"
   ]
  },
  {
   "cell_type": "code",
   "execution_count": null,
   "id": "cb13393c",
   "metadata": {},
   "outputs": [
    {
     "name": "stdout",
     "output_type": "stream",
     "text": [
      "amount: 599 outliers detectados\n",
      "oldbalanceOrg: 1861 outliers detectados\n",
      "oldbalanceDest: 1473 outliers detectados\n"
     ]
    }
   ],
   "source": [
    "# === 6. DETECCIÓN DE OUTLIERS POR IQR ===\n",
    "for col in [\"amount\", \"oldbalanceOrg\", \"oldbalanceDest\"]:\n",
    "    Q1 = df[col].quantile(0.25)\n",
    "    Q3 = df[col].quantile(0.75)\n",
    "    IQR = Q3 - Q1\n",
    "    low = Q1 - 1.5 * IQR\n",
    "    high = Q3 + 1.5 * IQR\n",
    "    n_out = df[(df[col] < low) | (df[col] > high)].shape[0]\n",
    "    print(f\"{col}: {n_out} outliers detectados\")\n"
   ]
  },
  {
   "cell_type": "markdown",
   "id": "efbeeeca",
   "metadata": {},
   "source": [
    "El método **IQR (Interquartile Range)** identifica posibles valores atípicos \n",
    "en columnas numéricas.  \n",
    "No se eliminan, solo se registran, como pidió el profesor.\n"
   ]
  },
  {
   "cell_type": "code",
   "execution_count": null,
   "id": "27652209",
   "metadata": {},
   "outputs": [
    {
     "name": "stdout",
     "output_type": "stream",
     "text": [
      "<class 'pandas.core.frame.DataFrame'>\n",
      "Index: 11014 entries, 0 to 11589\n",
      "Data columns (total 10 columns):\n",
      " #   Column          Non-Null Count  Dtype  \n",
      "---  ------          --------------  -----  \n",
      " 0   step            11014 non-null  float64\n",
      " 1   type            11014 non-null  object \n",
      " 2   amount          11014 non-null  float64\n",
      " 3   nameOrig        11014 non-null  object \n",
      " 4   oldbalanceOrg   11014 non-null  float64\n",
      " 5   newbalanceOrig  11014 non-null  float64\n",
      " 6   nameDest        11014 non-null  object \n",
      " 7   oldbalanceDest  11014 non-null  float64\n",
      " 8   newbalanceDest  11014 non-null  float64\n",
      " 9   isFraud         11014 non-null  float64\n",
      "dtypes: float64(7), object(3)\n",
      "memory usage: 946.5+ KB\n",
      "None\n",
      "step              0\n",
      "type              0\n",
      "amount            0\n",
      "nameOrig          0\n",
      "oldbalanceOrg     0\n",
      "newbalanceOrig    0\n",
      "nameDest          0\n",
      "oldbalanceDest    0\n",
      "newbalanceDest    0\n",
      "isFraud           0\n",
      "dtype: int64\n"
     ]
    }
   ],
   "source": [
    "# === 7. VERIFICACIÓN FINAL ===\n",
    "print(df.info())\n",
    "print(df.isna().sum())\n"
   ]
  },
  {
   "cell_type": "markdown",
   "id": "c447b2b4",
   "metadata": {},
   "source": [
    "Al final del proceso, `info()` muestra que ya no existen valores nulos, \n",
    "y todos los tipos de datos son correctos.  \n",
    "Esto confirma que la limpieza fue exitosa.\n"
   ]
  },
  {
   "cell_type": "code",
   "execution_count": null,
   "id": "5e3cebb6",
   "metadata": {},
   "outputs": [
    {
     "name": "stdout",
     "output_type": "stream",
     "text": [
      "Archivo limpio guardado como: transacciones_limpias.csv\n"
     ]
    }
   ],
   "source": [
    "# === 8. EXPORTACIÓN ===\n",
    "df.to_csv(\"transacciones_limpias.csv\", index=False)\n",
    "print(\"Archivo limpio guardado como: transacciones_limpias.csv\")\n"
   ]
  },
  {
   "cell_type": "markdown",
   "id": "f6e5badf",
   "metadata": {},
   "source": [
    "\n",
    "#CONCLUSIONES\n",
    "\n",
    "1. Se eliminaron 577 duplicados y se corrigieron tipos de datos.  \n",
    "2. Se reemplazaron valores faltantes con la mediana o \"desconocido\".  \n",
    "3. Se identificaron outliers mediante IQR, sin eliminarlos.  \n",
    "4. No se utilizó `dropna()`, cumpliendo con la consigna del profesor.  \n",
    "5. La base final no presenta nulos ni duplicados, y está lista para análisis.  \n",
    "\n",
    "---\n",
    "**Dataset limpio final:** `transacciones_limpias.csv`\n"
   ]
  }
 ],
 "metadata": {
  "kernelspec": {
   "display_name": "Python 3",
   "language": "python",
   "name": "python3"
  },
  "language_info": {
   "codemirror_mode": {
    "name": "ipython",
    "version": 3
   },
   "file_extension": ".py",
   "mimetype": "text/x-python",
   "name": "python",
   "nbconvert_exporter": "python",
   "pygments_lexer": "ipython3",
   "version": "3.13.7"
  }
 },
 "nbformat": 4,
 "nbformat_minor": 5
}
